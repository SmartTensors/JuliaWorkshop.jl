{
 "cells": [
  {
   "cell_type": "markdown",
   "source": [
    "# NMF: Non-negative Matrix Factorization\n",
    "\n",
    "**NMF** splits up a non-negative data matrix ($\\mathbf{X}$) into two smaller rank matrices $\\mathbf{W}$ and $\\mathbf{H}$\n",
    "It minimizes the following function:\n",
    "\n",
    "$$\n",
    "\\Vert \\mathbf{X} - \\mathbf{W} \\times \\mathbf{H} \\Vert_2\n",
    "$$\n",
    "\n",
    "**NMF** starts with either random or specified initialization of $\\mathbf{W}$ and $\\mathbf{H}$.\n",
    "\n",
    "**NMF** tries to estimate $\\mathbf{W}$ and $\\mathbf{H}$ that approvimate $\\mathbf{X}$."
   ],
   "metadata": {}
  },
  {
   "cell_type": "markdown",
   "source": [
    "## NMF package in Julia has several factorization algorithms such as:\n",
    "- greedy coordinate descent (default)\n",
    "- multiplicative update (using mean square error [MSE] or divergence as objective)\n",
    "- projected alternate least square\n",
    "- alternate least square using projected gradient descent\n",
    "- fast hierarchical alternating least square\n",
    "- successive projection algorithm"
   ],
   "metadata": {}
  },
  {
   "cell_type": "markdown",
   "source": [
    "### Julia has also several initialization scheme including the capability of using custom initialization"
   ],
   "metadata": {}
  },
  {
   "cell_type": "code",
   "execution_count": null,
   "source": [
    "import NMF, Plots, Statistics, RDatasets"
   ],
   "outputs": [],
   "metadata": {}
  },
  {
   "cell_type": "code",
   "execution_count": null,
   "source": [
    "iris = RDatasets.dataset(\"datasets\", \"iris\");\n",
    "X = Matrix(iris[:, 1:4]);"
   ],
   "outputs": [],
   "metadata": {}
  },
  {
   "cell_type": "markdown",
   "source": [
    "## NMF using high-level function call (NMF.nnmf):"
   ],
   "metadata": {}
  },
  {
   "cell_type": "code",
   "execution_count": null,
   "source": [
    "k = 3\n",
    "nmfresults = NMF.nnmf(X, k; alg=:multmse, maxiter=30, tol=1.0e-4)\n",
    "W = nmfresults.W\n",
    "H = nmfresults.H\n",
    "println(\"NMF iterations:\", nmfresults.niters)\n",
    "println(\"NMF convergence: \", nmfresults.converged)\n",
    "println(\"NMF objective function: \", nmfresults.objvalue)"
   ],
   "outputs": [],
   "metadata": {}
  },
  {
   "cell_type": "markdown",
   "source": [
    "## NMF using multiplicative update (MSE) with random initial guesses:"
   ],
   "metadata": {}
  },
  {
   "cell_type": "code",
   "execution_count": null,
   "source": [
    "\n",
    "W, H = NMF.randinit(X, k)\n",
    "nmfresults = NMF.solve!(NMF.MultUpdate{Float64}(obj=:mse, maxiter=1000), X, W, H)\n",
    "println(\"NMF iterations:\", nmfresults.niters)\n",
    "println(\"NMF convergence: \", nmfresults.converged)\n",
    "println(\"NMF objective function: \", nmfresults.objvalue)"
   ],
   "outputs": [],
   "metadata": {}
  },
  {
   "cell_type": "markdown",
   "source": [
    "## NMF using multiplicative update (divergence) with random initial guesses:"
   ],
   "metadata": {}
  },
  {
   "cell_type": "code",
   "execution_count": null,
   "source": [
    "W, H = NMF.randinit(X, k)\n",
    "nmfresults = NMF.solve!(NMF.MultUpdate{Float64}(obj=:div, maxiter=1000), X, W, H)\n",
    "println(\"NMF iterations:\", nmfresults.niters)\n",
    "println(\"NMF convergence: \", nmfresults.converged)\n",
    "println(\"NMF objective function: \", nmfresults.objvalue)"
   ],
   "outputs": [],
   "metadata": {}
  },
  {
   "cell_type": "markdown",
   "source": [
    "## NMF using greedy coordinate descent witn SVD informed initial guesses:"
   ],
   "metadata": {}
  },
  {
   "cell_type": "code",
   "execution_count": null,
   "source": [
    "W, H = NMF.nndsvd(X, k, variant=:ar)\n",
    "nmfresults = NMF.solve!(NMF.GreedyCD{Float64}(maxiter=1000), X, W, H)\n",
    "println(\"NMF iterations:\", nmfresults.niters)\n",
    "println(\"NMF convergence: \", nmfresults.converged)\n",
    "println(\"NMF objective function: \", nmfresults.objvalue)"
   ],
   "outputs": [],
   "metadata": {}
  },
  {
   "cell_type": "markdown",
   "source": [
    "## NMF using successive projection algorithm"
   ],
   "metadata": {}
  },
  {
   "cell_type": "code",
   "execution_count": null,
   "source": [
    "W, H = NMF.spa(X, k)\n",
    "nmfresults = NMF.solve!(NMF.SPA{Float64}(obj=:mse), X, W, H)\n",
    "println(\"NMF iterations:\", nmfresults.niters)\n",
    "println(\"NMF convergence: \", nmfresults.converged)\n",
    "println(\"NMF objective function: \", nmfresults.objvalue)"
   ],
   "outputs": [],
   "metadata": {}
  }
 ],
 "metadata": {
  "kernelspec": {
   "display_name": "Julia 1.6.1",
   "language": "julia",
   "name": "julia-1.6"
  },
  "language_info": {
   "file_extension": ".jl",
   "mimetype": "application/julia",
   "name": "julia",
   "version": "1.6.2"
  }
 },
 "nbformat": 4,
 "nbformat_minor": 5
}