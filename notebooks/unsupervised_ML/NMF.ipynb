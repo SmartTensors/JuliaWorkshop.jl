{
 "cells": [
  {
   "cell_type": "markdown",
   "id": "dd1bc00c",
   "metadata": {},
   "source": [
    "Notebook on NMF: Non-negative Matrix Factorization\n",
    "---\n",
    "\n",
    "**NMF** splits up a non-negative data matrix ($\\mathbf{X}$) into two smaller rank matrices $\\mathbf{W}$ and $\\mathbf{H}$\n",
    "It minimizes the following function:\n",
    "\n",
    "$$\n",
    "\\Vert \\mathbf{X} - \\mathbf{W} \\times \\mathbf{H} \\Vert_2\n",
    "$$\n",
    "\n",
    "**NMF** starts with either random or specified initialization of $\\mathbf{W}$ and $\\mathbf{H}$.\n",
    "\n",
    "Finally, **NMF** estimates $\\mathbf{W}$ and $\\mathbf{H}$ that approvimate $\\mathbf{X}$."
   ]
  },
  {
   "cell_type": "markdown",
   "id": "2ac2e57a",
   "metadata": {},
   "source": [
    "### NMF package in Julia has several factorization algorithms such as:\n",
    "- greedy coordinate descent (default)\n",
    "- multiplicative update (using mean square error [MSE] or divergence as objective)\n",
    "- projected alternate least square\n",
    "- alternate least square using projected gradient descent\n",
    "- fast hierarchical alternating least square\n",
    "- successive projection algorithm"
   ]
  },
  {
   "cell_type": "markdown",
   "id": "b6890dfe",
   "metadata": {},
   "source": [
    "### Julia has also several initialization scheme including the capability of using custom initialization"
   ]
  },
  {
   "cell_type": "code",
   "execution_count": null,
   "id": "77ec1f97",
   "metadata": {},
   "outputs": [],
   "source": [
    "import NMF, Plots, Statistics, RDatasets\n",
    "import Random\n",
    "Random.seed!(2021)"
   ]
  },
  {
   "cell_type": "code",
   "execution_count": null,
   "id": "e7b664a3",
   "metadata": {},
   "outputs": [],
   "source": [
    "iris = RDatasets.dataset(\"datasets\", \"iris\");\n",
    "X = Matrix(iris[:, 1:4]);"
   ]
  },
  {
   "cell_type": "markdown",
   "id": "83b519c7",
   "metadata": {},
   "source": [
    "### NMF using high-level function call (NMF.nnmf):"
   ]
  },
  {
   "cell_type": "code",
   "execution_count": null,
   "id": "bfb94c94",
   "metadata": {},
   "outputs": [],
   "source": [
    "k = 3\n",
    "nmfresults = NMF.nnmf(X, k; alg=:multmse, maxiter=30, tol=1.0e-4)\n",
    "W = nmfresults.W\n",
    "H = nmfresults.H\n",
    "println(\"NMF iterations:\", nmfresults.niters)\n",
    "println(\"NMF convergence: \", nmfresults.converged)\n",
    "println(\"NMF objective function: \", nmfresults.objvalue)"
   ]
  },
  {
   "cell_type": "markdown",
   "id": "8854ad0f",
   "metadata": {},
   "source": [
    "### NMF using multiplicative update (MSE) with random initial guesses:"
   ]
  },
  {
   "cell_type": "code",
   "execution_count": null,
   "id": "f4820710",
   "metadata": {},
   "outputs": [],
   "source": [
    "\n",
    "W, H = NMF.randinit(X, k)\n",
    "nmfresults = NMF.solve!(NMF.MultUpdate{Float64}(obj=:mse, maxiter=1000), X, W, H)\n",
    "println(\"NMF iterations:\", nmfresults.niters)\n",
    "println(\"NMF convergence: \", nmfresults.converged)\n",
    "println(\"NMF objective function: \", nmfresults.objvalue)"
   ]
  },
  {
   "cell_type": "markdown",
   "id": "2332d90d",
   "metadata": {},
   "source": [
    "### NMF using multiplicative update (divergence) with random initial guesses:"
   ]
  },
  {
   "cell_type": "code",
   "execution_count": null,
   "id": "cf25c175",
   "metadata": {},
   "outputs": [],
   "source": [
    "W, H = NMF.randinit(X, k)\n",
    "nmfresults = NMF.solve!(NMF.MultUpdate{Float64}(obj=:div, maxiter=1000), X, W, H)\n",
    "println(\"NMF iterations:\", nmfresults.niters)\n",
    "println(\"NMF convergence: \", nmfresults.converged)\n",
    "println(\"NMF objective function: \", nmfresults.objvalue)"
   ]
  },
  {
   "cell_type": "markdown",
   "id": "e1cbfdd6",
   "metadata": {},
   "source": [
    "### NMF using greedy coordinate descent witn SVD informed initial guesses:"
   ]
  },
  {
   "cell_type": "code",
   "execution_count": null,
   "id": "0ecb2c00",
   "metadata": {},
   "outputs": [],
   "source": [
    "W, H = NMF.nndsvd(X, k, variant=:ar)\n",
    "nmfresults = NMF.solve!(NMF.GreedyCD{Float64}(maxiter=1000), X, W, H)\n",
    "println(\"NMF iterations:\", nmfresults.niters)\n",
    "println(\"NMF convergence: \", nmfresults.converged)\n",
    "println(\"NMF objective function: \", nmfresults.objvalue)"
   ]
  },
  {
   "cell_type": "markdown",
   "id": "39681aa7",
   "metadata": {},
   "source": [
    "### NMF using successive projection algorithm"
   ]
  },
  {
   "cell_type": "code",
   "execution_count": null,
   "id": "9a7c5a1a",
   "metadata": {},
   "outputs": [],
   "source": [
    "W, H = NMF.spa(X, k)\n",
    "nmfresults = NMF.solve!(NMF.SPA{Float64}(obj=:mse), X, W, H)\n",
    "println(\"NMF iterations:\", nmfresults.niters)\n",
    "println(\"NMF convergence: \", nmfresults.converged)\n",
    "println(\"NMF objective function: \", nmfresults.objvalue)"
   ]
  }
 ],
 "metadata": {
  "kernelspec": {
   "display_name": "Julia 1.6.2",
   "language": "julia",
   "name": "julia-1.6"
  },
  "language_info": {
   "file_extension": ".jl",
   "mimetype": "application/julia",
   "name": "julia",
   "version": "1.6.2"
  }
 },
 "nbformat": 4,
 "nbformat_minor": 5
}
