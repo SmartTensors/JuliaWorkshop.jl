{
 "cells": [
  {
   "cell_type": "markdown",
   "id": "11ff005c",
   "metadata": {},
   "source": [
    "### NMF: non-negative matrix factorization\n",
    "NMF splits up a non-negative data matrix ($\\mathbf{X}$) into two smaller rank matrices $\\mathbf{W}$ and $\\mathbf{H}$\n",
    "It minimizes the following function:\n",
    "$$\n",
    "\\Vert \\mathbf{X} - \\mathbf{W} \\times \\mathbf{H} \\Vert_2\n",
    "$$\n",
    "First, it starts with either random or specified initialization of $\\mathbf{W}$ and $\\mathbf{H}$. Later, it tries to estimate $\\mathbf{W}$ and $\\mathbf{H}$ that almost replicates $\\mathbf{X}$."
   ]
  },
  {
   "cell_type": "markdown",
   "id": "9712e2c9",
   "metadata": {},
   "source": [
    "### Julia NMF package has several factorization algorithm such as:\n",
    "- multiplicative update (using MSE as objective)\n",
    "- multiplicative update (using divergence as objective)\n",
    "- projected alternate least square\n",
    "- alternate least square using projected gradient descent\n",
    "- fast hierarchical alternating least square\n",
    "- greedy coordinate descent (default)\n",
    "- successive projection algorithm"
   ]
  },
  {
   "cell_type": "markdown",
   "id": "eaa30f51",
   "metadata": {},
   "source": [
    "### Julia has also several initialization scheme including the capability of using custom initialization"
   ]
  },
  {
   "cell_type": "code",
   "execution_count": 23,
   "id": "e2663fa7",
   "metadata": {},
   "outputs": [],
   "source": [
    "import NMF, Plots, Statistics, RDatasets"
   ]
  },
  {
   "cell_type": "code",
   "execution_count": 43,
   "id": "b135bc0c",
   "metadata": {},
   "outputs": [],
   "source": [
    "iris = RDatasets.dataset(\"datasets\", \"iris\");\n",
    "X = Matrix(iris[:, 1:4]);"
   ]
  },
  {
   "cell_type": "markdown",
   "id": "75603765",
   "metadata": {},
   "source": [
    "### Using high-level function: automatic"
   ]
  },
  {
   "cell_type": "code",
   "execution_count": 31,
   "id": "f7001ec0",
   "metadata": {},
   "outputs": [
    {
     "name": "stdout",
     "output_type": "stream",
     "text": [
      "no. of iteration is 30\n",
      "if the alg. found solution: false\n",
      "obj_function_value is: 8.757469107617341\n"
     ]
    }
   ],
   "source": [
    "k = 3\n",
    "results = NMF.nnmf(X, k; alg=:multmse, maxiter=30, tol=1.0e-4)\n",
    "W = results.W\n",
    "H = results.H\n",
    "print(\"no. of iteration is \", results.niters, \"\\n\")\n",
    "print(\"if the alg. found solution: \", results.converged, \"\\n\")\n",
    "print(\"obj_function_value is: \", results.objvalue, \"\\n\")"
   ]
  },
  {
   "cell_type": "markdown",
   "id": "8e07339d",
   "metadata": {},
   "source": [
    "### using multiplicative update"
   ]
  },
  {
   "cell_type": "code",
   "execution_count": 34,
   "id": "69dd27c1",
   "metadata": {},
   "outputs": [
    {
     "name": "stdout",
     "output_type": "stream",
     "text": [
      "no. of iteration is 1000\n",
      "if the alg. found solution: false\n",
      "obj_function_value is: 1.8422044497726342\n"
     ]
    }
   ],
   "source": [
    "# initialize\n",
    "W, H = NMF.randinit(X, k)\n",
    "# optimize \n",
    "results = NMF.solve!(NMF.MultUpdate{Float64}(obj=:mse,maxiter=1000), X, W, H)\n",
    "print(\"no. of iteration is \", results.niters, \"\\n\")\n",
    "print(\"if the alg. found solution: \", results.converged, \"\\n\")\n",
    "print(\"obj_function_value is: \", results.objvalue, \"\\n\")"
   ]
  },
  {
   "cell_type": "markdown",
   "id": "0082ffca",
   "metadata": {},
   "source": [
    "### using greedy coordinate descent"
   ]
  },
  {
   "cell_type": "code",
   "execution_count": 37,
   "id": "516e9ed5",
   "metadata": {},
   "outputs": [
    {
     "name": "stdout",
     "output_type": "stream",
     "text": [
      "no. of iteration is 936\n",
      "if the alg. found solution: true\n",
      "obj_function_value is: 1.7762851607265047\n"
     ]
    }
   ],
   "source": [
    "W, H = NMF.nndsvd(X, k,variant=:ar)  # initialize\n",
    "results = NMF.solve!(NMF.GreedyCD{Float64}(maxiter=1000), X, W, H)# optimize\n",
    "print(\"no. of iteration is \", results.niters, \"\\n\")\n",
    "print(\"if the alg. found solution: \", results.converged, \"\\n\")\n",
    "print(\"obj_function_value is: \", results.objvalue, \"\\n\")"
   ]
  },
  {
   "cell_type": "code",
   "execution_count": 39,
   "id": "aca5697a",
   "metadata": {},
   "outputs": [
    {
     "data": {
      "text/plain": [
       "150×3 Matrix{Float64}:\n",
       " 0.263665  1.11108   0.0456486\n",
       " 0.297313  0.950497  0.0212151\n",
       " 0.24623   1.01441   0.0432114\n",
       " 0.265988  0.94283   0.0647843\n",
       " 0.242886  1.13414   0.0620301\n",
       " 0.273919  1.1919    0.113672\n",
       " 0.221507  1.04753   0.0923663\n",
       " 0.273898  1.0573    0.0564548\n",
       " 0.25788   0.88862   0.0540969\n",
       " 0.29882   0.963911  0.0263167\n",
       " 0.281808  1.17176   0.0481254\n",
       " 0.263352  1.02657   0.0836425\n",
       " 0.290003  0.945701  0.0155897\n",
       " ⋮                   \n",
       " 0.687934  0.390066  0.518338\n",
       " 0.81648   0.366067  0.558721\n",
       " 0.807282  0.31253   0.638183\n",
       " 0.782454  0.416086  0.554093\n",
       " 0.725944  0.233499  0.556382\n",
       " 0.837874  0.296837  0.656608\n",
       " 0.792594  0.352127  0.679128\n",
       " 0.782652  0.355829  0.57311\n",
       " 0.788082  0.224575  0.488221\n",
       " 0.770759  0.347911  0.548024\n",
       " 0.708551  0.406023  0.66838\n",
       " 0.706474  0.330231  0.558848"
      ]
     },
     "execution_count": 39,
     "metadata": {},
     "output_type": "execute_result"
    }
   ],
   "source": [
    "results.W"
   ]
  },
  {
   "cell_type": "markdown",
   "id": "daff4380",
   "metadata": {},
   "source": [
    "### successive projection algorithm"
   ]
  },
  {
   "cell_type": "code",
   "execution_count": 42,
   "id": "5a0fe9a4",
   "metadata": {},
   "outputs": [
    {
     "name": "stdout",
     "output_type": "stream",
     "text": [
      "no. of iteration is 0\n",
      "if the alg. found solution: true\n",
      "obj_function_value is: 12.733601899146034\n"
     ]
    }
   ],
   "source": [
    "W, H = NMF.spa(X, k)\n",
    "results = NMF.solve!(NMF.SPA{Float64}(obj=:mse), X, W, H) # optimize\n",
    "print(\"no. of iteration is \", results.niters, \"\\n\")\n",
    "print(\"if the alg. found solution: \", results.converged, \"\\n\")\n",
    "print(\"obj_function_value is: \", results.objvalue, \"\\n\")"
   ]
  }
 ],
 "metadata": {
  "kernelspec": {
   "display_name": "Julia 1.6.2",
   "language": "julia",
   "name": "julia-1.6"
  },
  "language_info": {
   "file_extension": ".jl",
   "mimetype": "application/julia",
   "name": "julia",
   "version": "1.6.2"
  }
 },
 "nbformat": 4,
 "nbformat_minor": 5
}
