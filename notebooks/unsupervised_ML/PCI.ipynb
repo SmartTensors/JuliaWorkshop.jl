{
 "cells": [
  {
   "cell_type": "markdown",
   "id": "51d3df0a",
   "metadata": {},
   "source": [
    "# PCI (principal component analysis)\n",
    "\n",
    "**PCI** derives an orthogonal projection to convert a given set of observations to linearly uncorrelated variables. \n",
    "\n",
    "The **PCI** projections are called principal components."
   ]
  },
  {
   "cell_type": "markdown",
   "id": "5d0a67aa",
   "metadata": {},
   "source": [
    "## Import required modules for this tutorial"
   ]
  },
  {
   "cell_type": "code",
   "execution_count": null,
   "id": "8ecbd86a",
   "metadata": {},
   "outputs": [],
   "source": [
    "import Plots\n",
    "import MultivariateStats\n",
    "import Clustering\n",
    "import RDatasets, Plots\n",
    "Plots.plotly()"
   ]
  },
  {
   "cell_type": "markdown",
   "id": "eb566fdb",
   "metadata": {},
   "source": [
    "## Load iris dataset"
   ]
  },
  {
   "cell_type": "code",
   "execution_count": null,
   "id": "daaa935b",
   "metadata": {},
   "outputs": [],
   "source": [
    "iris = RDatasets.dataset(\"datasets\", \"iris\");"
   ]
  },
  {
   "cell_type": "markdown",
   "id": "39bc6f24",
   "metadata": {},
   "source": [
    "## Split half to training set"
   ]
  },
  {
   "cell_type": "code",
   "execution_count": null,
   "id": "c5ec31c8",
   "metadata": {},
   "outputs": [],
   "source": [
    "# training set\n",
    "Xtr        = Array(iris[1:2:end,1:4])';\n",
    "Xtr_labels = Array(iris[1:2:end,5]);"
   ]
  },
  {
   "cell_type": "code",
   "execution_count": null,
   "id": "8d17dcbe",
   "metadata": {},
   "outputs": [],
   "source": [
    "Xtr"
   ]
  },
  {
   "cell_type": "markdown",
   "id": "f09d1cd1",
   "metadata": {},
   "source": [
    "## Split other half to testing set"
   ]
  },
  {
   "cell_type": "code",
   "execution_count": null,
   "id": "b8a77adb",
   "metadata": {},
   "outputs": [],
   "source": [
    "Xte = Array(iris[2:2:end,1:4])';\n",
    "Xte_labels = Array(iris[2:2:end,5]);"
   ]
  },
  {
   "cell_type": "markdown",
   "id": "6712be5a",
   "metadata": {},
   "source": [
    "## PCI Analysis\n",
    "\n",
    "Suppose Xtr and Xte are training and testing data matrices with each observations along the columns.\n",
    "\n",
    "Train a PCA model, allowing up to 4 dimensions:"
   ]
  },
  {
   "cell_type": "code",
   "execution_count": null,
   "id": "570307eb",
   "metadata": {},
   "outputs": [],
   "source": [
    "M = MultivariateStats.fit(MultivariateStats.PCA, Xtr; maxoutdim=4)"
   ]
  },
  {
   "cell_type": "markdown",
   "id": "14407d4d",
   "metadata": {},
   "source": [
    "The maximum output dimension is 4 but the **PCI** alogorithm finds optimal value as 3:"
   ]
  },
  {
   "cell_type": "markdown",
   "id": "9d5e2265",
   "metadata": {},
   "source": [
    "## Apply PCA model to testing set"
   ]
  },
  {
   "cell_type": "code",
   "execution_count": null,
   "id": "fcf32117",
   "metadata": {},
   "outputs": [],
   "source": [
    "Yte = MultivariateStats.transform(M, Xte)"
   ]
  },
  {
   "cell_type": "markdown",
   "id": "f9e682a9",
   "metadata": {},
   "source": [
    "## Reconstruct testing observations (approximately)"
   ]
  },
  {
   "cell_type": "code",
   "execution_count": null,
   "id": "fa54bbaa",
   "metadata": {},
   "outputs": [],
   "source": [
    "Xr = MultivariateStats.reconstruct(M, Yte)\n",
    "using Statistics\n",
    "r2 = sum((Xte .- Xr).^2)  # calculates the mse between true and predicted data"
   ]
  },
  {
   "cell_type": "code",
   "execution_count": null,
   "id": "2f266d84",
   "metadata": {},
   "outputs": [],
   "source": [
    "sqrt(r2)"
   ]
  },
  {
   "cell_type": "markdown",
   "id": "2d8a4fee",
   "metadata": {},
   "source": [
    "## Group results by testing set labels for color coding"
   ]
  },
  {
   "cell_type": "code",
   "execution_count": null,
   "id": "157b133f",
   "metadata": {},
   "outputs": [],
   "source": [
    "setosa     = Yte[:,Xte_labels.==\"setosa\"]\n",
    "versicolor = Yte[:,Xte_labels.==\"versicolor\"]\n",
    "virginica  = Yte[:,Xte_labels.==\"virginica\"]"
   ]
  },
  {
   "cell_type": "code",
   "execution_count": null,
   "id": "4db60e37",
   "metadata": {},
   "outputs": [],
   "source": [
    "Xte_labels.==\"versicolor\""
   ]
  },
  {
   "cell_type": "markdown",
   "id": "b1a14059",
   "metadata": {},
   "source": [
    "## Visualize first 3 principal components in 3D interactive plot"
   ]
  },
  {
   "cell_type": "code",
   "execution_count": null,
   "id": "f251e193",
   "metadata": {},
   "outputs": [],
   "source": [
    "# visualize first 3 principal components in 3D interacive plot\n",
    "p = Plots.scatter(setosa[1,:],setosa[2,:],setosa[3,:],marker=:circle,linewidth=0)\n",
    "Plots.scatter!(versicolor[1,:],versicolor[2,:],versicolor[3,:],marker=:circle,linewidth=0)\n",
    "Plots.scatter!(virginica[1,:],virginica[2,:],virginica[3,:],marker=:circle,linewidth=0)\n",
    "Plots.plot!(p,xlabel=\"PC1\",ylabel=\"PC2\",zlabel=\"PC3\")"
   ]
  },
  {
   "cell_type": "code",
   "execution_count": null,
   "id": "6ff92493",
   "metadata": {},
   "outputs": [],
   "source": []
  }
 ],
 "metadata": {
  "kernelspec": {
   "display_name": "Julia 1.6.2",
   "language": "julia",
   "name": "julia-1.6"
  },
  "language_info": {
   "file_extension": ".jl",
   "mimetype": "application/julia",
   "name": "julia",
   "version": "1.6.2"
  }
 },
 "nbformat": 4,
 "nbformat_minor": 5
}
