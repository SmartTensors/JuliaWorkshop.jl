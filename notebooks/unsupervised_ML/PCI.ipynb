{
 "cells": [
  {
   "cell_type": "markdown",
   "source": [
    "# PCI (principal component analysis)\n",
    "\n",
    "**PCI** derives an orthogonal projection to convert a given set of observations to linearly uncorrelated variables. \n",
    "\n",
    "The **PCI** projections are called principal components."
   ],
   "metadata": {}
  },
  {
   "cell_type": "markdown",
   "source": [
    "## Import required modules for this tutorial"
   ],
   "metadata": {}
  },
  {
   "cell_type": "code",
   "execution_count": null,
   "source": [
    "import Plots\n",
    "import MultivariateStats\n",
    "import Clustering\n",
    "import RDatasets, Plots\n",
    "Plots.plotly()"
   ],
   "outputs": [],
   "metadata": {}
  },
  {
   "cell_type": "markdown",
   "source": [
    "## Load iris dataset"
   ],
   "metadata": {}
  },
  {
   "cell_type": "code",
   "execution_count": null,
   "source": [
    "iris = RDatasets.dataset(\"datasets\", \"iris\");"
   ],
   "outputs": [],
   "metadata": {}
  },
  {
   "cell_type": "markdown",
   "source": [
    "## Split half to training set"
   ],
   "metadata": {}
  },
  {
   "cell_type": "code",
   "execution_count": null,
   "source": [
    "# training set\n",
    "Xtr        = Array(iris[1:2:end,1:4])';\n",
    "Xtr_labels = Array(iris[1:2:end,5]);"
   ],
   "outputs": [],
   "metadata": {}
  },
  {
   "cell_type": "code",
   "execution_count": null,
   "source": [
    "Xtr"
   ],
   "outputs": [],
   "metadata": {}
  },
  {
   "cell_type": "markdown",
   "source": [
    "## Split other half to testing set"
   ],
   "metadata": {}
  },
  {
   "cell_type": "code",
   "execution_count": null,
   "source": [
    "Xte = Array(iris[2:2:end,1:4])';\n",
    "Xte_labels = Array(iris[2:2:end,5]);"
   ],
   "outputs": [],
   "metadata": {}
  },
  {
   "cell_type": "markdown",
   "source": [
    "## Analysis\n",
    "\n",
    "Suppose Xtr and Xte are training and testing data matrices with each observations along the columns.\n",
    "\n",
    "Train a PCA model, allowing up to 4 dimensions:"
   ],
   "metadata": {}
  },
  {
   "cell_type": "code",
   "execution_count": null,
   "source": [
    "M = MultivariateStats.fit(MultivariateStats.PCA, Xtr; maxoutdim=4)"
   ],
   "outputs": [],
   "metadata": {}
  },
  {
   "cell_type": "markdown",
   "source": [
    "The maximum output dimension is 4 but the **PCI** alogorithm finds optimal value as 3:"
   ],
   "metadata": {}
  },
  {
   "cell_type": "markdown",
   "source": [
    "## Apply PCA model to testing set"
   ],
   "metadata": {}
  },
  {
   "cell_type": "code",
   "execution_count": null,
   "source": [
    "Yte = MultivariateStats.transform(M, Xte)"
   ],
   "outputs": [],
   "metadata": {}
  },
  {
   "cell_type": "markdown",
   "source": [
    "## Reconstruct testing observations (approximately)"
   ],
   "metadata": {}
  },
  {
   "cell_type": "code",
   "execution_count": null,
   "source": [
    "Xr = MultivariateStats.reconstruct(M, Yte)\n",
    "using Statistics\n",
    "r2 = sum((Xte .- Xr).^2)  # calculates the mse between true and predicted data"
   ],
   "outputs": [],
   "metadata": {}
  },
  {
   "cell_type": "code",
   "execution_count": null,
   "source": [
    "sqrt(r2)"
   ],
   "outputs": [],
   "metadata": {}
  },
  {
   "cell_type": "markdown",
   "source": [
    "## Group results by testing set labels for color coding"
   ],
   "metadata": {}
  },
  {
   "cell_type": "code",
   "execution_count": null,
   "source": [
    "setosa     = Yte[:,Xte_labels.==\"setosa\"]\n",
    "versicolor = Yte[:,Xte_labels.==\"versicolor\"]\n",
    "virginica  = Yte[:,Xte_labels.==\"virginica\"]"
   ],
   "outputs": [],
   "metadata": {}
  },
  {
   "cell_type": "code",
   "execution_count": null,
   "source": [
    "Xte_labels.==\"versicolor\""
   ],
   "outputs": [],
   "metadata": {}
  },
  {
   "cell_type": "markdown",
   "source": [
    "## Visualize first 3 principal components in 3D interactive plot"
   ],
   "metadata": {}
  },
  {
   "cell_type": "code",
   "execution_count": null,
   "source": [
    "# visualize first 3 principal components in 3D interacive plot\n",
    "p = Plots.scatter(setosa[1,:],setosa[2,:],setosa[3,:],marker=:circle,linewidth=0)\n",
    "Plots.scatter!(versicolor[1,:],versicolor[2,:],versicolor[3,:],marker=:circle,linewidth=0)\n",
    "Plots.scatter!(virginica[1,:],virginica[2,:],virginica[3,:],marker=:circle,linewidth=0)\n",
    "Plots.plot!(p,xlabel=\"PC1\",ylabel=\"PC2\",zlabel=\"PC3\")"
   ],
   "outputs": [],
   "metadata": {}
  },
  {
   "cell_type": "code",
   "execution_count": null,
   "source": [],
   "outputs": [],
   "metadata": {}
  }
 ],
 "metadata": {
  "kernelspec": {
   "display_name": "Julia 1.6.2",
   "language": "julia",
   "name": "julia-1.6"
  },
  "language_info": {
   "file_extension": ".jl",
   "mimetype": "application/julia",
   "name": "julia",
   "version": "1.6.2"
  }
 },
 "nbformat": 4,
 "nbformat_minor": 5
}