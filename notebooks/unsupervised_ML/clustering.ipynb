{
 "cells": [
  {
   "cell_type": "markdown",
   "source": [
    "# Clustering\n",
    "\n",
    "## $k$-means clustering\n",
    "\n",
    "*$k$-means* is a classic method for clustering.\n",
    "\n",
    "$k$ is an integer number that produces a fixed number of cluster, which are associated with a center and each data point is assigned to a cluster.\n",
    "\n",
    "*$k$-means* solves the following optimization problem:\n",
    "$$\n",
    "\\mathrm{minimize} \\sum^{n}_{i=1} \\Vert( \\mathbf{x}_i - \\mathbf{\\mu}_{z_i} \\Vert^2)  \\quad \\mathrm{w.r.t} \\quad \\left(\\mathbf{\\mu}, z\\right)\n",
    "$$\n",
    "where $\\mu_k$ is the center of the $k^\\mathrm{th}$ cluster, $z_i$ is an index of the cluster for point $\\mathbf{x}_i$"
   ],
   "metadata": {}
  },
  {
   "cell_type": "markdown",
   "source": [
    "# import required library"
   ],
   "metadata": {}
  },
  {
   "cell_type": "code",
   "execution_count": null,
   "source": [
    "import RDatasets, Clustering, Plots\n",
    "import Statistics, Distances\n",
    "Plots.plotly();"
   ],
   "outputs": [],
   "metadata": {}
  },
  {
   "cell_type": "markdown",
   "source": [
    "### load `iris` dataset from R datasets"
   ],
   "metadata": {}
  },
  {
   "cell_type": "code",
   "execution_count": null,
   "source": [
    "iris = RDatasets.dataset(\"datasets\", \"iris\");"
   ],
   "outputs": [],
   "metadata": {}
  },
  {
   "cell_type": "markdown",
   "source": [
    "### select some data for clustering"
   ],
   "metadata": {}
  },
  {
   "cell_type": "code",
   "execution_count": null,
   "source": [
    "features = Matrix(iris[:, 1:4])'; # features to use for clustering"
   ],
   "outputs": [],
   "metadata": {}
  },
  {
   "cell_type": "markdown",
   "source": [
    "### run clustering algorithm"
   ],
   "metadata": {}
  },
  {
   "cell_type": "code",
   "execution_count": null,
   "source": [
    "result = Clustering.kmeans(features, 3); # run K-means for the 3 clusters"
   ],
   "outputs": [],
   "metadata": {}
  },
  {
   "cell_type": "markdown",
   "source": [
    "### check if the number of clusters are same as specified"
   ],
   "metadata": {}
  },
  {
   "cell_type": "code",
   "execution_count": null,
   "source": [
    "@assert Clustering.nclusters(result) == 3"
   ],
   "outputs": [],
   "metadata": {}
  },
  {
   "cell_type": "markdown",
   "source": [
    "### view some basic features for $k$-meanus clustering"
   ],
   "metadata": {}
  },
  {
   "cell_type": "markdown",
   "source": [
    "#### center of the clusters"
   ],
   "metadata": {}
  },
  {
   "cell_type": "code",
   "execution_count": null,
   "source": [
    "M = result.centers"
   ],
   "outputs": [],
   "metadata": {}
  },
  {
   "cell_type": "markdown",
   "source": [
    "### cluster size ==> number of data points for each cluster"
   ],
   "metadata": {}
  },
  {
   "cell_type": "code",
   "execution_count": null,
   "source": [
    "size = Clustering.counts(result)"
   ],
   "outputs": [],
   "metadata": {}
  },
  {
   "cell_type": "markdown",
   "source": [
    "### get the assignments of points to clusters"
   ],
   "metadata": {}
  },
  {
   "cell_type": "code",
   "execution_count": null,
   "source": [
    "a = Clustering.assignments(result)"
   ],
   "outputs": [],
   "metadata": {}
  },
  {
   "cell_type": "markdown",
   "source": [
    "### plot with the point color mapped to the assigned cluster index"
   ],
   "metadata": {}
  },
  {
   "cell_type": "code",
   "execution_count": null,
   "source": [
    "Plots.scatter(iris.PetalLength, iris.PetalWidth, marker_z=result.assignments,\n",
    "        color=:lightrainbow, legend=false)"
   ],
   "outputs": [],
   "metadata": {}
  },
  {
   "cell_type": "markdown",
   "source": [
    "### We ran single $k$-means clustering but we don't know if 3 is the best cluster for this data\n",
    "- for validation of $k$-means clustering results there are several metrics\n",
    "- one of them is silhouette width\n",
    "- others are elbow, cross tabulation, rand index, variation of information, V-measure, mutual information\n",
    "- among them silhouette is the best metric; however, these metrics are dataset dependent\n",
    "### Silhouette width measures the quality of each clustering by quantifying distance of each cluster from its neighboring clusters\n",
    "- The Silhouette width for $i$ data point is a cosine norm:\n",
    "    $$\n",
    "    s_i = \\frac{b_i - a_i}{\\mathrm{max}\\left(a_i, b_i\\right)} \n",
    "    $$ \n",
    "where\n",
    "- $a_i$ is the average distance from $i$ to the other points in the same cluster $z_i$\n",
    "- $b_i$ is the average distance from the i to the points in the $k$-th cluster\n",
    "### to compute Silhouette width, we need distance matrix of features/data"
   ],
   "metadata": {}
  },
  {
   "cell_type": "code",
   "execution_count": null,
   "source": [
    "#dist_function(x)  = Distances.pairwise(Distances.Euclidean(), x, dims = 2) # defines distance function\n",
    "#dist = dist_function(features)\n",
    "dists = Distances.pairwise(Distances.SqEuclidean(), features)"
   ],
   "outputs": [],
   "metadata": {}
  },
  {
   "cell_type": "markdown",
   "source": [
    "### find silhouette width"
   ],
   "metadata": {}
  },
  {
   "cell_type": "code",
   "execution_count": null,
   "source": [
    "sil_width = Statistics.mean(Clustering.silhouettes(result, dists))"
   ],
   "outputs": [],
   "metadata": {}
  },
  {
   "cell_type": "markdown",
   "source": [
    "### We did for one cluster. Now, perform analyses for multiple $k$ values"
   ],
   "metadata": {}
  },
  {
   "cell_type": "code",
   "execution_count": null,
   "source": [
    "cl_num    = [2, 3, 4, 5, 6, 7]\n",
    "sil_width = []\n",
    "for cluster in cl_num\n",
    "    results          = Clustering.kmeans(features, cluster)\n",
    "    silhouette_width = Statistics.mean(Clustering.silhouettes(results, dists))\n",
    "    push!(sil_width, silhouette_width)\n",
    "    display(silhouette_width)\n",
    "end"
   ],
   "outputs": [],
   "metadata": {}
  },
  {
   "cell_type": "code",
   "execution_count": null,
   "source": [
    "Plots.plot(cl_num, sil_width, xlabel=\"No. of cluster\", ylabel=\"Silhouette width\", linewidth=2)"
   ],
   "outputs": [],
   "metadata": {}
  },
  {
   "cell_type": "markdown",
   "source": [
    "### Here, $k = 2$ has highest Silhouette value. However, three is the closest to two. From my experience, $k=2$ provides highest silhouette width than larger $k$ values. Potential cause is two cluster can easilty demarcate the boundaries in a dataset. However, it does not mean that they represent the data accurately. So, it is better to look for $k$ value greater than `two`. Here, $k=3$ does it and also the actual data also has `three` distinct classification."
   ],
   "metadata": {}
  },
  {
   "cell_type": "markdown",
   "source": [
    "## DBSCAN (density-based spatial clustering of applications with noise)\n",
    "\n",
    "DBSCAN extracts clusters that are subsets of the given set of points and satisfy the following properties:\n",
    "- All points within the cluster are mutually density-connected, meaning that for any two distinct points $p$ and $q$ in a cluster, there exists a point $o$ sucht that both $p$ and $q$ are density reachable from $o$.\n",
    "- If a point is density-connected to any point of a cluster, it is also part of that cluster.\n",
    "- clusters with less than 20 points will be discarded:"
   ],
   "metadata": {}
  },
  {
   "cell_type": "code",
   "execution_count": null,
   "source": [
    "points = randn(3, 1000)\n",
    "#clusters = Clustering.dbscan(features, 0.05, min_neighbors = 3, min_cluster_size = 20)\n",
    "clusters = Clustering.dbscan(points, 0.05, min_neighbors = 4)"
   ],
   "outputs": [],
   "metadata": {}
  },
  {
   "cell_type": "code",
   "execution_count": null,
   "source": [],
   "outputs": [],
   "metadata": {}
  }
 ],
 "metadata": {
  "kernelspec": {
   "display_name": "Julia 1.6.2",
   "language": "julia",
   "name": "julia-1.6"
  },
  "language_info": {
   "file_extension": ".jl",
   "mimetype": "application/julia",
   "name": "julia",
   "version": "1.6.2"
  }
 },
 "nbformat": 4,
 "nbformat_minor": 5
}