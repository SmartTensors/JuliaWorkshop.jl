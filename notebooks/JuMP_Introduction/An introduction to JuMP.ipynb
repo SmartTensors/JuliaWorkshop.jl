{
 "cells": [
  {
   "cell_type": "markdown",
   "source": [
    "# An introduction to JuMP\n",
    "\n",
    "This tutorial doesn't exist in isolation.\n",
    "Some other good resources for learning JuMP are:\n",
    "- [Julia Discourse forum](https://discourse.julialang.org/c/domain/opt)\n",
    "- [JuMP documentation](http://www.juliaopt.org/JuMP.jl/0.18)\n",
    "- [JuMP examples](https://github.com/JuliaOpt/JuMP.jl/tree/release-0.18/examples)\n",
    "- [Textbook: Julia Programming for Operations Research](http://www.chkwon.net/julia)"
   ],
   "metadata": {}
  },
  {
   "cell_type": "markdown",
   "source": [
    "## The basics"
   ],
   "metadata": {}
  },
  {
   "cell_type": "markdown",
   "source": [
    "First, load the JuMP package into your current environment."
   ],
   "metadata": {}
  },
  {
   "cell_type": "code",
   "execution_count": 2,
   "source": [
    "using JuMP"
   ],
   "outputs": [],
   "metadata": {}
  },
  {
   "cell_type": "markdown",
   "source": [
    "Start building a JuMP model like so,"
   ],
   "metadata": {}
  },
  {
   "cell_type": "code",
   "execution_count": 3,
   "source": [
    "model = Model()\n",
    "@variable(model, x)\n",
    "@variable(model, y >= 0)\n",
    "@variable(model, 1 <= z <= 2)\n",
    "model"
   ],
   "outputs": [
    {
     "output_type": "execute_result",
     "data": {
      "text/plain": [
       "A JuMP Model\n",
       "Feasibility problem with:\n",
       "Variables: 3\n",
       "`VariableRef`-in-`MathOptInterface.GreaterThan{Float64}`: 2 constraints\n",
       "`VariableRef`-in-`MathOptInterface.LessThan{Float64}`: 1 constraint\n",
       "Model mode: AUTOMATIC\n",
       "CachingOptimizer state: NO_OPTIMIZER\n",
       "Solver name: No optimizer attached.\n",
       "Names registered in the model: x, y, z"
      ]
     },
     "metadata": {},
     "execution_count": 3
    }
   ],
   "metadata": {}
  },
  {
   "cell_type": "markdown",
   "source": [
    "### What's going on here?\n",
    "`@variable(model, x)` does four things:\n",
    "1. it adds an *optimization* variable to the model\n",
    "2. it creates a *JuMP* variable that acts as a reference to the optimization variable in the model\n",
    "3. it creates a *Julia* variable `x` that points to the JuMP variable\n",
    "4. it stores a reference to the JuMP variable in the model with the name `:x`"
   ],
   "metadata": {}
  },
  {
   "cell_type": "code",
   "execution_count": 4,
   "source": [
    "model = Model()\n",
    "@variable(model, x >= 1.414)"
   ],
   "outputs": [
    {
     "output_type": "execute_result",
     "data": {
      "text/latex": [
       "$$ x $$"
      ],
      "text/plain": [
       "x"
      ]
     },
     "metadata": {},
     "execution_count": 4
    }
   ],
   "metadata": {}
  },
  {
   "cell_type": "code",
   "execution_count": 5,
   "source": [
    "# x is a JuMP variable\n",
    "typeof(x)"
   ],
   "outputs": [
    {
     "output_type": "execute_result",
     "data": {
      "text/plain": [
       "VariableRef"
      ]
     },
     "metadata": {},
     "execution_count": 5
    }
   ],
   "metadata": {}
  },
  {
   "cell_type": "code",
   "execution_count": 6,
   "source": [
    "# We can bind the JuMP variable to a different Julia variable and set `x` to something else\n",
    "y = x\n",
    "x = 1\n",
    "\n",
    "@show typeof(y)\n",
    "@show typeof(x)\n",
    "\n",
    "y"
   ],
   "outputs": [
    {
     "output_type": "stream",
     "name": "stdout",
     "text": [
      "typeof(y) = VariableRef\n",
      "typeof(x) = Int64\n"
     ]
    },
    {
     "output_type": "execute_result",
     "data": {
      "text/latex": [
       "$$ x $$"
      ],
      "text/plain": [
       "x"
      ]
     },
     "metadata": {},
     "execution_count": 6
    }
   ],
   "metadata": {}
  },
  {
   "cell_type": "code",
   "execution_count": 7,
   "source": [
    "JuMP.lower_bound(y)"
   ],
   "outputs": [
    {
     "output_type": "execute_result",
     "data": {
      "text/plain": [
       "1.414"
      ]
     },
     "metadata": {},
     "execution_count": 7
    }
   ],
   "metadata": {}
  },
  {
   "cell_type": "code",
   "execution_count": 8,
   "source": [
    "model[:x]"
   ],
   "outputs": [
    {
     "output_type": "execute_result",
     "data": {
      "text/latex": [
       "$$ x $$"
      ],
      "text/plain": [
       "x"
      ]
     },
     "metadata": {},
     "execution_count": 8
    }
   ],
   "metadata": {}
  },
  {
   "cell_type": "code",
   "execution_count": 9,
   "source": [
    "model[:x] == y"
   ],
   "outputs": [
    {
     "output_type": "execute_result",
     "data": {
      "text/plain": [
       "true"
      ]
     },
     "metadata": {},
     "execution_count": 9
    }
   ],
   "metadata": {}
  },
  {
   "cell_type": "markdown",
   "source": [
    "### Other ways to create variables\n",
    "\n",
    "We can also create arrays of JuMP variables."
   ],
   "metadata": {}
  },
  {
   "cell_type": "code",
   "execution_count": 10,
   "source": [
    "model = Model()\n",
    "@variable(model, x[i = 1:4] >= i)\n",
    "x"
   ],
   "outputs": [
    {
     "output_type": "execute_result",
     "data": {
      "text/plain": [
       "4-element Vector{VariableRef}:\n",
       " x[1]\n",
       " x[2]\n",
       " x[3]\n",
       " x[4]"
      ]
     },
     "metadata": {},
     "execution_count": 10
    }
   ],
   "metadata": {}
  },
  {
   "cell_type": "markdown",
   "source": [
    "The indices of the arrays don't have to be integers. They can be anything, like a string or a symbol."
   ],
   "metadata": {}
  },
  {
   "cell_type": "code",
   "execution_count": 11,
   "source": [
    "model = Model()\n",
    "@variable(model, x[i = 1:2, j = [:A, :B]] >= i)\n",
    "x"
   ],
   "outputs": [
    {
     "output_type": "execute_result",
     "data": {
      "text/plain": [
       "2-dimensional DenseAxisArray{VariableRef,2,...} with index sets:\n",
       "    Dimension 1, Base.OneTo(2)\n",
       "    Dimension 2, [:A, :B]\n",
       "And data, a 2×2 Matrix{VariableRef}:\n",
       " x[1,A]  x[1,B]\n",
       " x[2,A]  x[2,B]"
      ]
     },
     "metadata": {},
     "execution_count": 11
    }
   ],
   "metadata": {}
  },
  {
   "cell_type": "markdown",
   "source": [
    "We can also add a condition to filter out some of the variables"
   ],
   "metadata": {}
  },
  {
   "cell_type": "code",
   "execution_count": 12,
   "source": [
    "model = Model()\n",
    "@variable(model, x[i = 1:4, j = [:A, :B]; isodd(i)] >= i)\n",
    "x"
   ],
   "outputs": [
    {
     "output_type": "execute_result",
     "data": {
      "text/plain": [
       "JuMP.Containers.SparseAxisArray{VariableRef, 2, Tuple{Int64, Symbol}} with 4 entries:\n",
       "  [1, A]  =  x[1,A]\n",
       "  [1, B]  =  x[1,B]\n",
       "  [3, A]  =  x[3,A]\n",
       "  [3, B]  =  x[3,B]"
      ]
     },
     "metadata": {},
     "execution_count": 12
    }
   ],
   "metadata": {}
  },
  {
   "cell_type": "markdown",
   "source": [
    "What if I want to add two variables with the same name?"
   ],
   "metadata": {}
  },
  {
   "cell_type": "code",
   "execution_count": 13,
   "source": [
    "model = Model()\n",
    "@variable(model, x >= 1)\n",
    "@variable(model, x >= 2)"
   ],
   "outputs": [
    {
     "output_type": "error",
     "ename": "LoadError",
     "evalue": "An object of name x is already attached to this model. If this\n    is intended, consider using the anonymous construction syntax, e.g.,\n    `x = @variable(model, [1:N], ...)` where the name of the object does\n    not appear inside the macro.\n\n    Alternatively, use `unregister(model, :x)` to first unregister\n    the existing name from the model. Note that this will not delete the\n    object; it will just remove the reference at `model[:x]`.\n",
     "traceback": [
      "An object of name x is already attached to this model. If this\n    is intended, consider using the anonymous construction syntax, e.g.,\n    `x = @variable(model, [1:N], ...)` where the name of the object does\n    not appear inside the macro.\n\n    Alternatively, use `unregister(model, :x)` to first unregister\n    the existing name from the model. Note that this will not delete the\n    object; it will just remove the reference at `model[:x]`.\n",
      "",
      "Stacktrace:",
      " [1] error(s::String)",
      "   @ Base ./error.jl:33",
      " [2] _error_if_cannot_register(model::Model, name::Symbol)",
      "   @ JuMP ~/.julia/packages/JuMP/b3hGi/src/macros.jl:100",
      " [3] macro expansion",
      "   @ ~/.julia/packages/JuMP/b3hGi/src/macros.jl:134 [inlined]",
      " [4] top-level scope",
      "   @ In[13]:3",
      " [5] eval",
      "   @ ./boot.jl:360 [inlined]",
      " [6] include_string(mapexpr::typeof(REPL.softscope), mod::Module, code::String, filename::String)",
      "   @ Base ./loading.jl:1116"
     ]
    }
   ],
   "metadata": {}
  },
  {
   "cell_type": "markdown",
   "source": [
    "### Quiz Question\n",
    "\n",
    "What is the value of the following?"
   ],
   "metadata": {}
  },
  {
   "cell_type": "code",
   "execution_count": 14,
   "source": [
    "JuMP.lower_bound(x)"
   ],
   "outputs": [
    {
     "output_type": "execute_result",
     "data": {
      "text/plain": [
       "1.0"
      ]
     },
     "metadata": {},
     "execution_count": 14
    }
   ],
   "metadata": {}
  },
  {
   "cell_type": "markdown",
   "source": [
    "### Anonymous variables\n",
    "\n",
    "So far, we've only added *named* variables. This works great until we want to add two variables with the same name! To work around this isse, we can add *anonymous* variables."
   ],
   "metadata": {}
  },
  {
   "cell_type": "code",
   "execution_count": 15,
   "source": [
    "model = Model()\n",
    "\n",
    "x = @variable(model)\n",
    "@show JuMP.has_lower_bound(x)\n",
    "\n",
    "x = @variable(model, lower_bound = 1)\n",
    "@show JuMP.lower_bound(x)\n",
    "\n",
    "x = @variable(model, [i = 1:2], lower_bound = i)\n",
    "@show JuMP.lower_bound.(x)\n",
    "\n",
    "model"
   ],
   "outputs": [
    {
     "output_type": "stream",
     "name": "stdout",
     "text": [
      "JuMP.has_lower_bound(x) = false\n",
      "JuMP.lower_bound(x) = 1.0\n",
      "JuMP.lower_bound.(x) = [1.0, 2.0]\n"
     ]
    },
    {
     "output_type": "execute_result",
     "data": {
      "text/plain": [
       "A JuMP Model\n",
       "Feasibility problem with:\n",
       "Variables: 4\n",
       "`VariableRef`-in-`MathOptInterface.GreaterThan{Float64}`: 3 constraints\n",
       "Model mode: AUTOMATIC\n",
       "CachingOptimizer state: NO_OPTIMIZER\n",
       "Solver name: No optimizer attached."
      ]
     },
     "metadata": {},
     "execution_count": 15
    }
   ],
   "metadata": {}
  },
  {
   "cell_type": "markdown",
   "source": [
    "So what's the difference between the *named* and *anonymous* syntax? \n",
    "\n",
    "Well, `@variable(model, x >= 2)` is (roughly) equivalent to"
   ],
   "metadata": {}
  },
  {
   "cell_type": "code",
   "execution_count": 16,
   "source": [
    "model = Model()\n",
    "x = model[:x] = @variable(model, lower_bound = 2, base_name = \"x\")\n",
    "model"
   ],
   "outputs": [
    {
     "output_type": "execute_result",
     "data": {
      "text/plain": [
       "A JuMP Model\n",
       "Feasibility problem with:\n",
       "Variable: 1\n",
       "`VariableRef`-in-`MathOptInterface.GreaterThan{Float64}`: 1 constraint\n",
       "Model mode: AUTOMATIC\n",
       "CachingOptimizer state: NO_OPTIMIZER\n",
       "Solver name: No optimizer attached.\n",
       "Names registered in the model: x"
      ]
     },
     "metadata": {},
     "execution_count": 16
    }
   ],
   "metadata": {}
  },
  {
   "cell_type": "code",
   "execution_count": 17,
   "source": [
    "model = Model()\n",
    "@variable(model, x >= 2)\n",
    "model"
   ],
   "outputs": [
    {
     "output_type": "execute_result",
     "data": {
      "text/plain": [
       "A JuMP Model\n",
       "Feasibility problem with:\n",
       "Variable: 1\n",
       "`VariableRef`-in-`MathOptInterface.GreaterThan{Float64}`: 1 constraint\n",
       "Model mode: AUTOMATIC\n",
       "CachingOptimizer state: NO_OPTIMIZER\n",
       "Solver name: No optimizer attached.\n",
       "Names registered in the model: x"
      ]
     },
     "metadata": {},
     "execution_count": 17
    }
   ],
   "metadata": {}
  },
  {
   "cell_type": "markdown",
   "source": [
    "Although uneeded for this tutorial, we can also create binary and integer variables as follows:"
   ],
   "metadata": {}
  },
  {
   "cell_type": "code",
   "execution_count": 18,
   "source": [
    "model = Model()\n",
    "@variable(model, x >= 1, Int)\n",
    "@variable(model, y, Bin)\n",
    "model"
   ],
   "outputs": [
    {
     "output_type": "execute_result",
     "data": {
      "text/plain": [
       "A JuMP Model\n",
       "Feasibility problem with:\n",
       "Variables: 2\n",
       "`VariableRef`-in-`MathOptInterface.GreaterThan{Float64}`: 1 constraint\n",
       "`VariableRef`-in-`MathOptInterface.Integer`: 1 constraint\n",
       "`VariableRef`-in-`MathOptInterface.ZeroOne`: 1 constraint\n",
       "Model mode: AUTOMATIC\n",
       "CachingOptimizer state: NO_OPTIMIZER\n",
       "Solver name: No optimizer attached.\n",
       "Names registered in the model: x, y"
      ]
     },
     "metadata": {},
     "execution_count": 18
    }
   ],
   "metadata": {}
  },
  {
   "cell_type": "markdown",
   "source": [
    "### Constraints\n",
    "\n",
    "Now that we've seen how to create variables, let's look at constraints. Much of the syntax should be familiar."
   ],
   "metadata": {}
  },
  {
   "cell_type": "code",
   "execution_count": 19,
   "source": [
    "model = Model()\n",
    "@variable(model, x >= 0)\n",
    "@variable(model, y >= 0)\n",
    "\n",
    "@constraint(model, c_less_than, 2x + y <= 1)\n",
    "@constraint(model, c_greater_than, 2x + y >= 1)\n",
    "@constraint(model, c_equal_to, 2x + y == 1)\n",
    "\n",
    "model"
   ],
   "outputs": [
    {
     "output_type": "execute_result",
     "data": {
      "text/plain": [
       "A JuMP Model\n",
       "Feasibility problem with:\n",
       "Variables: 2\n",
       "`AffExpr`-in-`MathOptInterface.EqualTo{Float64}`: 1 constraint\n",
       "`AffExpr`-in-`MathOptInterface.GreaterThan{Float64}`: 1 constraint\n",
       "`AffExpr`-in-`MathOptInterface.LessThan{Float64}`: 1 constraint\n",
       "`VariableRef`-in-`MathOptInterface.GreaterThan{Float64}`: 2 constraints\n",
       "Model mode: AUTOMATIC\n",
       "CachingOptimizer state: NO_OPTIMIZER\n",
       "Solver name: No optimizer attached.\n",
       "Names registered in the model: c_equal_to, c_greater_than, c_less_than, x, y"
      ]
     },
     "metadata": {},
     "execution_count": 19
    }
   ],
   "metadata": {}
  },
  {
   "cell_type": "code",
   "execution_count": 20,
   "source": [
    "model[:c_equal_to]"
   ],
   "outputs": [
    {
     "output_type": "execute_result",
     "data": {
      "text/latex": [
       "c_equal_to : $ 2 x + y = 1.0 $"
      ],
      "text/plain": [
       "c_equal_to : 2 x + y = 1.0"
      ]
     },
     "metadata": {},
     "execution_count": 20
    }
   ],
   "metadata": {}
  },
  {
   "cell_type": "code",
   "execution_count": 21,
   "source": [
    "anonymous_constraint = @constraint(model, [i = 1:2], i * x <= y)\n",
    "\n",
    "model"
   ],
   "outputs": [
    {
     "output_type": "execute_result",
     "data": {
      "text/plain": [
       "A JuMP Model\n",
       "Feasibility problem with:\n",
       "Variables: 2\n",
       "`AffExpr`-in-`MathOptInterface.EqualTo{Float64}`: 1 constraint\n",
       "`AffExpr`-in-`MathOptInterface.GreaterThan{Float64}`: 1 constraint\n",
       "`AffExpr`-in-`MathOptInterface.LessThan{Float64}`: 3 constraints\n",
       "`VariableRef`-in-`MathOptInterface.GreaterThan{Float64}`: 2 constraints\n",
       "Model mode: AUTOMATIC\n",
       "CachingOptimizer state: NO_OPTIMIZER\n",
       "Solver name: No optimizer attached.\n",
       "Names registered in the model: c_equal_to, c_greater_than, c_less_than, x, y"
      ]
     },
     "metadata": {},
     "execution_count": 21
    }
   ],
   "metadata": {}
  },
  {
   "cell_type": "markdown",
   "source": [
    "### Objective Functions\n",
    "\n",
    "Now let's look at the objective function."
   ],
   "metadata": {}
  },
  {
   "cell_type": "code",
   "execution_count": 22,
   "source": [
    "model = Model()\n",
    "@variable(model, x >= 0)\n",
    "\n",
    "@objective(model, Min, 2x + 1)\n",
    "\n",
    "model"
   ],
   "outputs": [
    {
     "output_type": "execute_result",
     "data": {
      "text/plain": [
       "A JuMP Model\n",
       "Minimization problem with:\n",
       "Variable: 1\n",
       "Objective function type: AffExpr\n",
       "`VariableRef`-in-`MathOptInterface.GreaterThan{Float64}`: 1 constraint\n",
       "Model mode: AUTOMATIC\n",
       "CachingOptimizer state: NO_OPTIMIZER\n",
       "Solver name: No optimizer attached.\n",
       "Names registered in the model: x"
      ]
     },
     "metadata": {},
     "execution_count": 22
    }
   ],
   "metadata": {}
  },
  {
   "cell_type": "code",
   "execution_count": 23,
   "source": [
    "model = Model()\n",
    "@variable(model, x <= 2)\n",
    "\n",
    "@objective(model, Max, 2x + 1)\n",
    "\n",
    "model"
   ],
   "outputs": [
    {
     "output_type": "execute_result",
     "data": {
      "text/plain": [
       "A JuMP Model\n",
       "Maximization problem with:\n",
       "Variable: 1\n",
       "Objective function type: AffExpr\n",
       "`VariableRef`-in-`MathOptInterface.LessThan{Float64}`: 1 constraint\n",
       "Model mode: AUTOMATIC\n",
       "CachingOptimizer state: NO_OPTIMIZER\n",
       "Solver name: No optimizer attached.\n",
       "Names registered in the model: x"
      ]
     },
     "metadata": {},
     "execution_count": 23
    }
   ],
   "metadata": {}
  },
  {
   "cell_type": "markdown",
   "source": [
    "### Solving a Model\n",
    "\n",
    "Once we've formulated a model, the next step is to solve it. This requires a solver.\n",
    "\n",
    "JuMP supports lots of different solvers. The [JuMP documentation](http://www.juliaopt.org/JuMP.jl/v0.19.2/installation/) contains a list of the supported solvers and the types of problems each solver supports.\n",
    "\n",
    "We're going to use two solvers in particular.\n",
    "\n",
    "The first solver is the [GNU Linear Programming Kit (GLPK)](https://www.gnu.org/software/glpk/). This solver supports linear programs with continous variables.\n",
    "\n",
    "GLPK is available via the [GLPK.jl](https://github.com/JuliaOpt/GLPK.jl) package.\n",
    "\n",
    "The second solver is the COIN-OR [Interior Point OPTimizer (Ipopt)](https://projects.coin-or.org/Ipopt). This solver supports nonlinear programs with continous variables.\n",
    "\n",
    "Ipopt is available via the [Ipopt.jl](https://github.com/JuliaOpt/Ipopt.jl) package."
   ],
   "metadata": {}
  },
  {
   "cell_type": "code",
   "execution_count": 25,
   "source": [
    "using GLPK\n",
    "using Ipopt"
   ],
   "outputs": [],
   "metadata": {}
  },
  {
   "cell_type": "markdown",
   "source": [
    "There are two ways to add a solver to a JuMP model:"
   ],
   "metadata": {}
  },
  {
   "cell_type": "code",
   "execution_count": 26,
   "source": [
    "model = Model(GLPK.Optimizer)\n",
    "\n",
    "# ... or ...\n",
    "\n",
    "model = Model()\n",
    "set_optimizer(model, Ipopt.Optimizer)"
   ],
   "outputs": [],
   "metadata": {}
  },
  {
   "cell_type": "markdown",
   "source": [
    "If you try to solve an unsupported problem type, an error will be thrown:"
   ],
   "metadata": {}
  },
  {
   "cell_type": "code",
   "execution_count": 27,
   "source": [
    "model = Model(GLPK.Optimizer)\n",
    "@variable(model, 0 <= x <= π)\n",
    "@NLobjective(model, Min, cos(x)^2)\n",
    "optimize!(model)"
   ],
   "outputs": [
    {
     "output_type": "error",
     "ename": "LoadError",
     "evalue": "The solver does not support nonlinear problems (i.e., NLobjective and NLconstraint).",
     "traceback": [
      "The solver does not support nonlinear problems (i.e., NLobjective and NLconstraint).",
      "",
      "Stacktrace:",
      " [1] error(s::String)",
      "   @ Base ./error.jl:33",
      " [2] optimize!(model::Model, optimizer_factory::Nothing; bridge_constraints::Bool, ignore_optimize_hook::Bool, kwargs::Base.Iterators.Pairs{Union{}, Union{}, Tuple{}, NamedTuple{(), Tuple{}}})",
      "   @ JuMP ~/.julia/packages/JuMP/b3hGi/src/optimizer_interface.jl:191",
      " [3] optimize! (repeats 2 times)",
      "   @ ~/.julia/packages/JuMP/b3hGi/src/optimizer_interface.jl:157 [inlined]",
      " [4] top-level scope",
      "   @ In[27]:4",
      " [5] eval",
      "   @ ./boot.jl:360 [inlined]",
      " [6] include_string(mapexpr::typeof(REPL.softscope), mod::Module, code::String, filename::String)",
      "   @ Base ./loading.jl:1116"
     ]
    }
   ],
   "metadata": {}
  },
  {
   "cell_type": "markdown",
   "source": [
    "That error isn't very nice, but there is an [open JuMP issue](https://github.com/JuliaOpt/JuMP.jl/issues/1996) to resolve this."
   ],
   "metadata": {}
  },
  {
   "cell_type": "code",
   "execution_count": 28,
   "source": [
    "set_optimizer(model, Ipopt.Optimizer)\n",
    "optimize!(model)"
   ],
   "outputs": [
    {
     "output_type": "stream",
     "name": "stdout",
     "text": [
      "\n",
      "******************************************************************************\n",
      "This program contains Ipopt, a library for large-scale nonlinear optimization.\n",
      " Ipopt is released as open source code under the Eclipse Public License (EPL).\n",
      "         For more information visit https://github.com/coin-or/Ipopt\n",
      "******************************************************************************\n",
      "\n",
      "This is Ipopt version 3.13.4, running with linear solver mumps.\n",
      "NOTE: Other linear solvers might be more efficient (see Ipopt documentation).\n",
      "\n",
      "Number of nonzeros in equality constraint Jacobian...:        0\n",
      "Number of nonzeros in inequality constraint Jacobian.:        0\n",
      "Number of nonzeros in Lagrangian Hessian.............:        1\n",
      "\n",
      "Total number of variables............................:        1\n",
      "                     variables with only lower bounds:        0\n",
      "                variables with lower and upper bounds:        1\n",
      "                     variables with only upper bounds:        0\n",
      "Total number of equality constraints.................:        0\n",
      "Total number of inequality constraints...............:        0\n",
      "        inequality constraints with only lower bounds:        0\n",
      "   inequality constraints with lower and upper bounds:        0\n",
      "        inequality constraints with only upper bounds:        0\n",
      "\n",
      "iter    objective    inf_pr   inf_du lg(mu)  ||d||  lg(rg) alpha_du alpha_pr  ls\n",
      "   0  9.9990000e-01 0.00e+00 2.00e-02  -1.0 0.00e+00    -  0.00e+00 0.00e+00   0\n",
      "   1  9.8759980e-01 0.00e+00 3.07e-02  -1.0 1.02e-01    -  8.54e-01 1.00e+00f  1\n",
      "   2  9.8669625e-01 0.00e+00 4.01e-01  -1.7 4.01e-03   2.0 1.00e+00 1.00e+00f  1\n",
      "   3  9.8380423e-01 0.00e+00 4.00e-01  -1.7 1.20e-02   1.5 1.00e+00 1.00e+00f  1\n",
      "   4  9.7257905e-01 0.00e+00 4.30e-01  -1.7 3.88e-02   1.0 1.00e+00 1.00e+00f  1\n",
      "   5  8.8618271e-01 0.00e+00 6.31e-01  -1.7 1.78e-01   0.6 1.00e+00 1.00e+00f  1\n",
      "   6  8.2896451e-01 0.00e+00 8.03e-01  -1.7 8.22e-02   1.0 1.00e+00 1.00e+00f  1\n",
      "   7  4.8405038e-01 0.00e+00 9.92e-01  -1.7 3.75e-01   0.5 9.32e-01 1.00e+00f  1\n",
      "   8  1.4382245e-01 0.00e+00 7.49e-01  -1.7 1.49e+01    -  1.00e+00 7.76e-02f  2\n",
      "   9  7.8035855e-03 0.00e+00 1.89e-01  -1.7 4.77e-01    -  8.77e-01 1.00e+00f  1\n",
      "iter    objective    inf_pr   inf_du lg(mu)  ||d||  lg(rg) alpha_du alpha_pr  ls\n",
      "  10  3.6166261e-07 0.00e+00 1.86e-03  -2.5 8.91e-02    -  1.00e+00 1.00e+00f  1\n",
      "  11  2.5240578e-13 0.00e+00 5.79e-10  -3.8 6.01e-04    -  1.00e+00 1.00e+00f  1\n",
      "  12  9.1318054e-22 0.00e+00 1.57e-16  -5.7 5.02e-07    -  1.00e+00 1.00e+00f  1\n",
      "  13  3.7493995e-33 0.00e+00 1.89e-16  -8.6 3.02e-11    -  1.00e+00 1.00e+00f  1\n",
      "\n",
      "Number of Iterations....: 13\n",
      "\n",
      "                                   (scaled)                 (unscaled)\n",
      "Objective...............:   3.7493994566546440e-33    3.7493994566546440e-33\n",
      "Dual infeasibility......:   1.8934343678172697e-16    1.8934343678172697e-16\n",
      "Constraint violation....:   0.0000000000000000e+00    0.0000000000000000e+00\n",
      "Complementarity.........:   2.5059035951250753e-09    2.5059035951250753e-09\n",
      "Overall NLP error.......:   2.5059035951250753e-09    2.5059035951250753e-09\n",
      "\n",
      "\n",
      "Number of objective function evaluations             = 19\n",
      "Number of objective gradient evaluations             = 14\n",
      "Number of equality constraint evaluations            = 0\n",
      "Number of inequality constraint evaluations          = 0\n",
      "Number of equality constraint Jacobian evaluations   = 0\n",
      "Number of inequality constraint Jacobian evaluations = 0\n",
      "Number of Lagrangian Hessian evaluations             = 13\n",
      "Total CPU secs in IPOPT (w/o function evaluations)   =      0.668\n",
      "Total CPU secs in NLP function evaluations           =      0.464\n",
      "\n",
      "EXIT: Optimal Solution Found.\n"
     ]
    }
   ],
   "metadata": {}
  },
  {
   "cell_type": "markdown",
   "source": [
    "## Interpreting statuses\n",
    "\n",
    "After solving a model, JuMP can report three different statuses:\n",
    "\n",
    "- `termination_status(model)` explains why the solver stopped. Common statuses are `OPTIMAL`, `INFEASIBLE`, `DUAL_INFEASIBLE` (i.e., primal is potentially unbounded), and `LOCALLY_SOLVED`.\n",
    "\n",
    "- `primal_status(model)` explains how to interpret the primal solution vector. Common statuses are `FEASIBLE_POINT` and `NO_SOLUTION`.\n",
    "\n",
    "- `dual_status(model)` explains how to interpret the dual solution vector. Common statuses are `FEASIBLE_POINT` and `NO_SOLUTION`.\n",
    "\n",
    "## Getting solutions\n",
    "\n",
    "- Use `objective_value(::Model)` to get the objective value\n",
    "- Use `value(::VariableRef)` to get the primal value of a variable\n",
    "- Use `dual(::ConstraintRef)` to get the value of the dual variable associated with a constraint"
   ],
   "metadata": {}
  },
  {
   "cell_type": "code",
   "execution_count": 29,
   "source": [
    "x_value = value(x)\n",
    "obj_value = objective_value(model)\n",
    "\n",
    "println(\"Termination status: \", termination_status(model))\n",
    "println(\"Primal status:      \", primal_status(model))\n",
    "println(\"Dual status:        \", dual_status(model))\n",
    "println(\"      x | $(x_value)\")\n",
    "println(\"    π/2 | $(π/2)\")\n",
    "println(\"--------+----------------------\")\n",
    "println(\"cos²(x) | $(obj_value)\")"
   ],
   "outputs": [
    {
     "output_type": "stream",
     "name": "stdout",
     "text": [
      "Termination status: LOCALLY_SOLVED\n",
      "Primal status:      FEASIBLE_POINT\n",
      "Dual status:        FEASIBLE_POINT\n",
      "      x | 1.5707963267948966\n",
      "    π/2 | 1.5707963267948966\n",
      "--------+----------------------\n",
      "cos²(x) | 3.749399456654644e-33\n"
     ]
    }
   ],
   "metadata": {}
  },
  {
   "cell_type": "markdown",
   "source": [
    "## Example: Simple Economic Dispatch\n",
    "\n",
    "*This example is adapted from a [tutorial given at the 2015 Grid Science Winter School](https://github.com/JuliaOpt/juliaopt-notebooks/blob/3110eddaf5effdecfee687739295bea05731ba33/notebooks/Dvorkin%20-%20Power%20systems%20-%20Economic%20dispatch%20and%20Unit%20commitment.ipynb).*\n",
    "\n",
    "Economic dispatch (ED) is an optimization problem that minimizes the cost of supplying energy demand subject to operational constraints on power system assets. In its simplest instantiation, ED is a Linear Programing (LP) problem solved for an aggregated load and wind forecast and for a single infinitesimal moment. Mathematically, the ED problem can be written as follows:\n",
    "$$\n",
    "\\min \\sum_{i \\in I} c^g_{i} \\cdot g_{i} + c^w \\cdot w,\n",
    "$$\n",
    "where $c_{i}$ and $g_{i}$ are the incremental cost ($\\$/MWh$) and power output ($MW$) of the $i^{th}$ thermal generator, respectively, and $c^w$ and $w$ are the incremental cost ($\\$/MWh$) and wind power injection ($MW$), respectively.\n",
    "\n",
    "s.t.\n",
    "\n",
    "<li> Minimum ($g^{\\min}$) and maximum ($g^{\\max}$) limits on power outputs of the thermal generators: </li>\n",
    "$$\n",
    "g^{\\min}_{i} \\leq g_{i} \\leq g^{\\max}_{i}.\n",
    "$$\n",
    "<li>Constraint on the wind power injection:</li>\n",
    "$$\n",
    "0 \\leq w \\leq w^f, \n",
    "$$\n",
    "where $w$ and $w^f$ are the wind power injection and wind power forecast, respectively.\n",
    "\n",
    "<li>Power balance constraint:</li>\n",
    "$$\n",
    "\\sum_{i \\in I} g_{i} + w = d, \n",
    "$$\n",
    "where $d$ is the demand.\n",
    "\n",
    "Further reading on ED models can be found in A. J. Wood, B. F. Wollenberg, and G. B. Sheblé, \"Power Generation, Operation and Control\", Wiley, 2013.\n",
    "\n",
    "### JuMP Implementation of Economic Dispatch \n",
    "\n",
    "First, we need to load some plotting packages.  Note, compilation may take a few minutes."
   ],
   "metadata": {}
  },
  {
   "cell_type": "code",
   "execution_count": 30,
   "source": [
    "using Interact\n",
    "using Plots"
   ],
   "outputs": [
    {
     "output_type": "error",
     "ename": "LoadError",
     "evalue": "ArgumentError: Package Interact not found in current path:\n- Run `import Pkg; Pkg.add(\"Interact\")` to install the Interact package.\n",
     "traceback": [
      "ArgumentError: Package Interact not found in current path:\n- Run `import Pkg; Pkg.add(\"Interact\")` to install the Interact package.\n",
      "",
      "Stacktrace:",
      " [1] require(into::Module, mod::Symbol)",
      "   @ Base ./loading.jl:893",
      " [2] eval",
      "   @ ./boot.jl:360 [inlined]",
      " [3] include_string(mapexpr::typeof(REPL.softscope), mod::Module, code::String, filename::String)",
      "   @ Base ./loading.jl:1116"
     ]
    }
   ],
   "metadata": {}
  },
  {
   "cell_type": "markdown",
   "source": [
    "Now, we define some problem data for a model with two thermal generators and one wind generator."
   ],
   "metadata": {}
  },
  {
   "cell_type": "code",
   "execution_count": null,
   "source": [
    "# Define some input data about the test system\n",
    "# Maximum power output of generators\n",
    "const GENERATION_MAX = [1000, 1000]\n",
    "# Minimum power output of generators\n",
    "const GENERATION_MIN = [0, 300]\n",
    "# Incremental cost of generators \n",
    "const COST_GENERATION = [50, 100]\n",
    "# Incremental cost of wind generators\n",
    "const COST_WIND = 50\n",
    "# Total demand\n",
    "const DEMAND = 1500\n",
    "# Wind forecast\n",
    "const WIND_MAX = 200;"
   ],
   "outputs": [],
   "metadata": {}
  },
  {
   "cell_type": "markdown",
   "source": [
    "In the next cell, we create a Julia function that formulates and solves the economic dispatch problem."
   ],
   "metadata": {}
  },
  {
   "cell_type": "code",
   "execution_count": null,
   "source": [
    "\"\"\"\n",
    "    solve_economic_dispatch(; cost_of_thermal::Vector, cost_of_wind)\n",
    "\n",
    "Formulate and solve the economic dispatch problem given the cost of generation \n",
    "for the two thermal generators and the cost of wind generation.\n",
    "\"\"\"\n",
    "function solve_economic_dispatch(;\n",
    "        cost_of_thermal = COST_GENERATION, \n",
    "        cost_of_wind = COST_WIND)\n",
    "\n",
    "    economic_dispatch = Model(GLPK.Optimizer)\n",
    "    \n",
    "    # Define decision variables    \n",
    "    @variables(economic_dispatch, begin\n",
    "        g[i=1:2]  # Thermal generation (MW).\n",
    "        w >= 0  # Wind power (MW).\n",
    "    end)\n",
    "\n",
    "    # Define the objective function\n",
    "    @objective(economic_dispatch, Min, \n",
    "        sum(cost_of_thermal[i] * g[i] for i in 1:2) + cost_of_wind * w\n",
    "    )\n",
    "\n",
    "    # Define the constraint on the maximum and minimum power output of each generator.\n",
    "    for i in 1:2\n",
    "        @constraint(economic_dispatch, g[i] <= GENERATION_MAX[i])\n",
    "        @constraint(economic_dispatch, g[i] >= GENERATION_MIN[i])\n",
    "    end\n",
    "    \n",
    "    @constraints(economic_dispatch, begin\n",
    "        # Define the constraint on the wind power injection\n",
    "        w <= WIND_MAX\n",
    "        # Define the power balance constraint\n",
    "        sum(g[i] for i in 1:2) + w == DEMAND\n",
    "    end)\n",
    "\n",
    "    # Solve statement\n",
    "    optimize!(economic_dispatch)\n",
    "    \n",
    "    # Return the optimal value of the objective function and its minimizers\n",
    "    # as a NamedTuple.\n",
    "    return (\n",
    "        generation = value.(g), \n",
    "        wind_generation = value(w),\n",
    "        wind_spillage = WIND_MAX - value(w),\n",
    "        cost = objective_value(economic_dispatch)\n",
    "    )\n",
    "end\n",
    "\n",
    "# Solve the economic dispatch problem\n",
    "solution = solve_economic_dispatch()\n",
    "\n",
    "println(\"Dispatch\")\n",
    "println(\"   Generators: \", solution.generation, \" MW\")\n",
    "println(\"         Wind: \", solution.wind_generation, \" MW\")\n",
    "println(\"Wind spillage: \", solution.wind_spillage, \" MW\") \n",
    "println(\"----------------------------------\")\n",
    "println(\"Total cost: \\$\", solution.cost)  "
   ],
   "outputs": [],
   "metadata": {}
  },
  {
   "cell_type": "markdown",
   "source": [
    "### Economic dispatch with adjustable incremental costs"
   ],
   "metadata": {}
  },
  {
   "cell_type": "markdown",
   "source": [
    "In the following exercise we introduce a manipulator to vary the cost of wind generation and observe its impact the total cost, dispatch of generators G1 and G2, utilization of available wind under different values of the incremental cost of generator G1."
   ],
   "metadata": {}
  },
  {
   "cell_type": "code",
   "execution_count": null,
   "source": [
    "@manipulate for cost_of_wind in COST_WIND .* (1:0.1:3.5)\n",
    "    solutions = Any[]\n",
    "    cost_of_g1 = COST_GENERATION[1] .* (0.5:0.01:3.0)\n",
    "    for c_g1 in cost_of_g1\n",
    "        # update the incremental cost of the first generator at every iteration\n",
    "        solution = solve_economic_dispatch(\n",
    "            cost_of_thermal = [c_g1, COST_GENERATION[2]],\n",
    "            cost_of_wind = cost_of_wind\n",
    "        )\n",
    "        push!(solutions, solution)\n",
    "    end\n",
    "    \n",
    "    # Plot the outputs\n",
    "    plot(\n",
    "        # Plot the total cost\n",
    "        plot(cost_of_g1, [sol.cost for sol in solutions],\n",
    "            ylabel = \"Total cost\",\n",
    "            ylims = (50000, 200000)\n",
    "        ),\n",
    "        # Plot the power output of Generator 1\n",
    "        plot(cost_of_g1, [sol.generation[1] for sol in solutions],\n",
    "            ylabel = \"Dispatch: G1\",\n",
    "            ylims = (0, 1100)\n",
    "        ),\n",
    "        # Plot the power output of Generator 2    \n",
    "        plot(cost_of_g1, [sol.generation[2] for sol in solutions],\n",
    "            ylabel = \"Dispatch: G2\",\n",
    "            ylims = (0, 1600)\n",
    "        ),\n",
    "        # Plot the wind power output\n",
    "        plot(cost_of_g1, [sol.wind_generation for sol in solutions],\n",
    "            ylabel = \"Dispatch: Wind\",\n",
    "            ylims = (0, 250)\n",
    "        ),\n",
    "        legend = false,\n",
    "        xlabel = \"Cost of G1\"\n",
    "    )\n",
    "end"
   ],
   "outputs": [],
   "metadata": {}
  },
  {
   "cell_type": "markdown",
   "source": [
    "## Nonlinear example\n",
    "\n",
    "JuMP can also be used to solve non-linear problems (NLP). We saw a brief hint of this earlier when we used Ipopt and the `@NLobjective` macro. In the next example, we add nonlinearity to the cost of the second generator. The new cost of generation is\n",
    "$$\\text{generation_cost} = c_1^g\\times g_1 + \\frac{c_2^g\\times  g_2^{1.5}}{\\sqrt{1000}}.$$\n"
   ],
   "metadata": {}
  },
  {
   "cell_type": "code",
   "execution_count": null,
   "source": [
    "\"\"\"\n",
    "    solve_economic_dispatch(; cost_of_thermal::Vector, cost_of_wind)\n",
    "\n",
    "Formulate and solve the economic dispatch problem given the cost of generation \n",
    "for the two thermal generators and the cost of wind generation.\n",
    "\"\"\"\n",
    "function solve_nonlinear_economic_dispatch(;\n",
    "        cost_of_thermal = COST_GENERATION, \n",
    "        cost_of_wind = COST_WIND)\n",
    "    economic_dispatch = Model(Ipopt.Optimizer)\n",
    "    set_optimizer_attribute(economic_dispatch, \"print_level\", 0)\n",
    "    \n",
    "    @variables(economic_dispatch, begin\n",
    "        g[i=1:2] >= 0\n",
    "        w >= 0\n",
    "    end)\n",
    "\n",
    "    # ===========================================================\n",
    "    # You can write out nonlinear expression in the @NLobjective macro\n",
    "    # The same also applies for @NLconstraint.\n",
    "    @NLobjective(economic_dispatch, Min,\n",
    "        cost_of_thermal[1] * g[1] + \n",
    "        cost_of_thermal[2] * g[2]^1.5 / sqrt(1000) + \n",
    "        cost_of_wind * w)\n",
    "    # ===========================================================\n",
    "    # Look! This bit changed.\n",
    "    function generator_cost(g1, g2)\n",
    "        return cost_of_thermal[1] * g1 + cost_of_thermal[2] * g2^1.5 / sqrt(1000)\n",
    "    end\n",
    "    JuMP.register(economic_dispatch, :generator_cost, 2, generator_cost, autodiff=true)\n",
    "    @NLobjective(economic_dispatch, Min, \n",
    "        generator_cost(g[1], g[2]) + cost_of_wind * w)\n",
    "    # ===========================================================\n",
    "    \n",
    "    for i in 1:2\n",
    "        @constraint(economic_dispatch, g[i] <= GENERATION_MAX[i])\n",
    "        @constraint(economic_dispatch, g[i] >= GENERATION_MIN[i])\n",
    "    end    \n",
    "    @constraints(economic_dispatch, begin\n",
    "        w <= WIND_MAX\n",
    "        sum(g[i] for i in 1:2) + w == DEMAND\n",
    "    end)\n",
    "    optimize!(economic_dispatch)\n",
    "    return (\n",
    "        generation = value.(g), \n",
    "        wind_generation = value(w),\n",
    "        wind_spillage = WIND_MAX - value(w),\n",
    "        cost = objective_value(economic_dispatch)\n",
    "    )\n",
    "end"
   ],
   "outputs": [],
   "metadata": {}
  },
  {
   "cell_type": "code",
   "execution_count": null,
   "source": [
    "@manipulate for cost_of_wind in COST_WIND .* (1:0.2:3.5)\n",
    "    solutions = Any[]\n",
    "    cost_of_g1 = COST_GENERATION[1] .* (0.5:0.1:3.0)\n",
    "    for c_g1 in cost_of_g1\n",
    "        # update the incremental cost of the first generator at every iteration\n",
    "        solution = solve_nonlinear_economic_dispatch(\n",
    "            cost_of_thermal = [c_g1, COST_GENERATION[2]],\n",
    "            cost_of_wind = cost_of_wind\n",
    "        )\n",
    "        push!(solutions, solution)\n",
    "    end\n",
    "    \n",
    "    # Plot the outputs\n",
    "    plot(\n",
    "        # Plot the total cost\n",
    "        plot(cost_of_g1, [sol.cost for sol in solutions],\n",
    "            ylabel = \"Total cost\",\n",
    "            ylims = (50000, 200000)\n",
    "        ),\n",
    "        # Plot the power output of Generator 1\n",
    "        plot(cost_of_g1, [sol.generation[1] for sol in solutions],\n",
    "            ylabel = \"Dispatch: G1\",\n",
    "            ylims = (0, 1100)\n",
    "        ),\n",
    "        # Plot the power output of Generator 2    \n",
    "        plot(cost_of_g1, [sol.generation[2] for sol in solutions],\n",
    "            ylabel = \"Dispatch: G2\",\n",
    "            ylims = (0, 1600)\n",
    "        ),\n",
    "        # Plot the wind power output\n",
    "        plot(cost_of_g1, [sol.wind_generation for sol in solutions],\n",
    "            ylabel = \"Dispatch: Wind\",\n",
    "            ylims = (0, 250)\n",
    "        ),\n",
    "        legend = false,\n",
    "        xlabel = \"Cost of G1\"\n",
    "    )\n",
    "end"
   ],
   "outputs": [],
   "metadata": {}
  },
  {
   "cell_type": "code",
   "execution_count": null,
   "source": [],
   "outputs": [],
   "metadata": {}
  }
 ],
 "metadata": {
  "@webio": {
   "lastCommId": "c4add2088bc445ba82042a6b083394e5",
   "lastKernelId": "530d8f53-e317-4ab7-94b8-b4e46069c301"
  },
  "kernelspec": {
   "display_name": "Julia 1.6.2",
   "language": "julia",
   "name": "julia-1.6"
  },
  "language_info": {
   "file_extension": ".jl",
   "mimetype": "application/julia",
   "name": "julia",
   "version": "1.6.2"
  }
 },
 "nbformat": 4,
 "nbformat_minor": 2
}