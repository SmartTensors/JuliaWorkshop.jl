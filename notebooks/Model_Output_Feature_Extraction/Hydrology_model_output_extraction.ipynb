{
 "cells": [
  {
   "cell_type": "markdown",
   "metadata": {},
   "source": [
    "# Feature Extraction From Model Output\n",
    "\n",
    "In this excercise we'll use NMFk to extract temporal features from the output of hydrologic model outputs in the Colorado River Basin.  We'll focus on several hydrological and climate variables related to drought.\n"
   ]
  },
  {
   "cell_type": "code",
   "execution_count": 33,
   "metadata": {},
   "outputs": [],
   "source": [
    "import DelimitedFiles\n",
    "import HDF5\n",
    "import FileIO\n",
    "import JLD2\n",
    "import Mads\n",
    "import NMFk"
   ]
  },
  {
   "cell_type": "markdown",
   "metadata": {},
   "source": [
    "We define our six different drough features below. We'll also look at two different global climate models: GFDL-ESM2G and IPSL-CM5A-LR. We use temperature and precipitation output from these models to run our hydrologic model. The future simulations of these models show similar increases in temperature. However, the IPSL model shows a decrease in future precipitation, while GFDL shows an increase. "
   ]
  },
  {
   "cell_type": "code",
   "execution_count": 38,
   "metadata": {},
   "outputs": [
    {
     "data": {
      "text/plain": [
       "2-element Array{String,1}:\n",
       " \"GFDL-ESM2G\"\n",
       " \"IPSL-CM5A-LR\""
      ]
     },
     "execution_count": 38,
     "metadata": {},
     "output_type": "execute_result"
    }
   ],
   "source": [
    "varnames_long = [\"Dry dates\", \"Max evaporation\", \"Min stream flow\", \"Min soil moisture\", \"Max soil moisture\", \"Max snow water equivalent\", \"Max temperature\"]\n",
    "varnames = [:dryd, :evapx, :qn, :soilmn, :swex, :tx]\n",
    "gcm_models = [\"GFDL-ESM2G\", \"IPSL-CM5A-LR\"]"
   ]
  },
  {
   "cell_type": "markdown",
   "metadata": {},
   "source": [
    "Here we show the names of the subwatersheds within the Colorado River Basin wehre we have data. Some of the watersheds have the same names, so we give each watershed a unique name."
   ]
  },
  {
   "cell_type": "code",
   "execution_count": 9,
   "metadata": {},
   "outputs": [
    {
     "data": {
      "text/plain": [
       "11×3 Array{Any,2}:\n",
       " 15050301  \"Upper Santa Cruz\"  \"Upper Santa Cruz\"\n",
       " 15060202  \"Upper Verde\"       \"Upper Verde\"\n",
       " 15010008  \"Upper Virgin\"      \"Upper Virgin\"\n",
       " 14050005  \"Upper White\"       \"Upper White\"\n",
       " 14050001  \"Upper Yampa\"       \"Upper Yampa\"\n",
       " 14040109  \"Vermilion\"         \"Vermilion\"\n",
       " 14030001  \"Westwater Canyon\"  \"Westwater Canyon\"\n",
       " 15060102  \"White\"             \"White One\"\n",
       " 15010011  \"White\"             \"White Two\"\n",
       " 14060006  \"Willow\"            \"Willow\"\n",
       " 15020004  \"Zuni\"              \"Zuni\""
      ]
     },
     "execution_count": 9,
     "metadata": {},
     "output_type": "execute_result"
    }
   ],
   "source": [
    "indir = \"data/\"\n",
    "dr, hr = DelimitedFiles.readdlm(\"data/CRB.csv\", ','; header=true);\n",
    "dn, hn = DelimitedFiles.readdlm(\"data/huc8id_name_unique.csv\", ','; header=true);\n",
    "dx = DelimitedFiles.readdlm(\"data/huc8_list.txt\", ' ');\n",
    "ii = indexin(dr[:,11], dn[:,1]);\n",
    "ii = indexin(dx, dn[:,1]);\n",
    "watersheds = dn[ii[ii .!= nothing], 3];\n",
    "dn[end-10:end, :]"
   ]
  },
  {
   "cell_type": "markdown",
   "metadata": {},
   "source": [
    "The data in each file contains 6 global climate models and 11 climate/hydrology parameters. For each of those there is a 134 x 73 matrix of data. The matrix is made up of 134 sub-watersheds and 71 5-day interval periods representing a 1-year time-series of the 30 year average for that parameter."
   ]
  },
  {
   "cell_type": "code",
   "execution_count": 39,
   "metadata": {},
   "outputs": [
    {
     "name": "stdout",
     "output_type": "stream",
     "text": [
      "names(hf) = [\"GFDL-ESM2G\", \"GFDL-ESM2M\", \"HadGEM2-ES365\", \"IPSL-CM5A-LR\", \"MIROC-ESM\", \"MPI-ESM-LR\"]\n",
      "collect(keys(a)) = [\"qn\", \"soilmx\", \"dryd\", \"tn\", \"windx\", \"qx\", \"swex\", \"tx\", \"soilmn\", \"evapx\", \"precx\"]\n"
     ]
    },
    {
     "data": {
      "text/plain": [
       "(134, 73)"
      ]
     },
     "execution_count": 39,
     "metadata": {},
     "output_type": "execute_result"
    }
   ],
   "source": [
    "file = \"data/extremes_historical_06222020_5day.h5\"\n",
    "\n",
    "hf = HDF5.h5open(file)\n",
    "@show(names(hf))\n",
    "a = HDF5.read(hf, names(hf)[1]);\n",
    "@show(collect(keys(a)))\n",
    "size(a[string(varnames[1])])"
   ]
  },
  {
   "cell_type": "code",
   "execution_count": 16,
   "metadata": {},
   "outputs": [
    {
     "ename": "LoadError",
     "evalue": "\u001b[91mUndefVarError: HF5 not defined\u001b[39m",
     "output_type": "error",
     "traceback": [
      "\u001b[91mUndefVarError: HF5 not defined\u001b[39m",
      "",
      "Stacktrace:",
      " [1] top-level scope at ./In[16]:2",
      " [2] include_string(::Function, ::Module, ::String, ::String) at ./loading.jl:1091"
     ]
    }
   ],
   "source": [
    "# Run NMFk on Indice Data\n",
    "# loop through files\n",
    "hf = HDF5.h5open(file)\n",
    "nkrange = 2:6\n",
    "nNMF = 10\n",
    "# Loop through GCM models\n",
    "for n in gcm_models\n",
    "        a = HDF5.read(hf, n)\n",
    "        # for i = 1:length(a)\n",
    "        ka = Vector{Int64}(undef, length(a))\n",
    "        kaa = Vector{Vector{Int64}}(undef, length(a))\n",
    "        wg = Vector{Vector{Int64}}(undef, length(a))\n",
    "        # Run climate/hydrology indices in parallel\n",
    "        Threads.@threads for i in 1:1:varnames\n",
    "                indice = a[string(varnames[i])]\n",
    "                if sum(indice) == 0\n",
    "                        @warn(\"$case $n is empty!\")\n",
    "                        continue\n",
    "                end\n",
    "                if size(indice, 1) != length(watersheds) || size(indice, 2) !=  length(xaxis) || length(a) != length(varnames_long)\n",
    "                        @warn(\"$case $n has wrong dimensions: $(size(a))!\")\n",
    "                        continue\n",
    "                end\n",
    "                wrange = vec(sum(indice; dims=2) .!= 0)\n",
    "                if sum(.!wrange) > 0\n",
    "                        @warn(\"Watersheds $(sum(.!wrange)) are empty: $(watersheds[.!wrange])\")\n",
    "                end\n",
    "                @info(\"Processing $(varnames_long[i]) ...\")\n",
    "                Xo = permutedims(indice) \n",
    "                X = (Xo .- minimum(Xo)) / (maximum(Xo) - minimum(Xo)) # normalize matrix values\n",
    "                # Here is where we execute NMFk on climate indices\n",
    "                W, H, fitquality, robustness, aic, kopt = NMFk.execute(X, nkrange, nNMF; load=true, resultdir=\"results-$(case)/$(n)/$(varnames_long[i])\")\n",
    "                ka[i] = kopt\n",
    "                @info(\"$(varnames_long[i]): optimal number of features: $kopt\")\n",
    "                kaa[i] = NMFk.getks(nkrange, robustness[nkrange])\n",
    "                @info(\"$(varnames_long[i]): plausible number of features: $(kaa[i])\")\n",
    "                # Loop through differing number of features k\n",
    "                for k in kaa[i]\n",
    "                        @info(k)\n",
    "                        if ispath(\"figures-$(case)/$(n)/$(varnames_long[i])/\") == false\n",
    "                                mkpath(\"figures-$(case)/$(n)/$(varnames_long[i])/\")\n",
    "                        end\n",
    "                        if isfile(\"figures-$(case)/$(n)/$(varnames_long[i])/groups-$(k)-assignments.jld2\")\n",
    "                                watershed_groups = FileIO.load(\"figures-$(case)/$(n)/$(varnames_long[i])/groups-$(k)-assignments.jld2\", \"watershed_groups\")\n",
    "                        else\n",
    "                                # We run K means to cluster sub-watersheds into groups based on climate indices\n",
    "                                watershed_groups = NMFk.robustkmeans(H[k], k).assignments\n",
    "                                FileIO.save(\"figures-$(case)/$(n)/$(varnames_long[i])/groups-$(k)-assignments.jld2\", \"watershed_groups\", watershed_groups)\n",
    "                        end\n",
    "                        if k == kopt\n",
    "                                @info(watershed_groups)\n",
    "                                wg[i] = watershed_groups\n",
    "                        end\n",
    "                        @info(\"Attribute vs number of features\")\n",
    "                        display([varnames_long ka])\n",
    "                        @info(\"$case\")\n",
    "                        @info(\"Model: $n\")\n",
    "                        @info(\"Indice: $(varnames[i])\")\n",
    "                        @info(\"groups-$(k)-assignments\")\n",
    "                        @info([watersheds[wrange] watershed_groups[wrange]])\n",
    "                        DelimitedFiles.writedlm(\"figures-$(case)/$(n)/$(varnames_long[i])/groups-$(k)-assignments.dat\", [watersheds[wrange] watershed_groups[wrange]], ',')\n",
    "                        for g in sort(unique(watershed_groups))\n",
    "                                @info(\"$(varnames_long[i]): group #$(g) out of $(k):\")\n",
    "                                display(watersheds[wrange][watershed_groups[wrange] .== g])\n",
    "                        end\n",
    "                end\n",
    "        end\n",
    "        DelimitedFiles.writedlm(\"figures-$(case)/$(n)/number_of_features_optimal.dat\", [varnames_long ka], ',')\n",
    "        DelimitedFiles.writedlm(\"figures-$(case)/$(n)/number_of_features_plausible.dat\", [varnames_long kaa], ',')\n",
    "        s = NMFk.sankey(wg, varnames_long)\n",
    "        PlotlyJS.savehtml(s, \"figures-$(case)/$(n)/sankey-watersheds.html\", :remote)\n",
    "end\n",
    "HDF5.close(hf)"
   ]
  },
  {
   "cell_type": "code",
   "execution_count": 32,
   "metadata": {},
   "outputs": [
    {
     "name": "stderr",
     "output_type": "stream",
     "text": [
      "Error encountered while load FileIO.File{FileIO.DataFormat{:PDF},String}(\"figures/groups-2.pdf\").\n",
      "\n",
      "Fatal error:\n",
      "Error encountered while load FileIO.File{FileIO.DataFormat{:PDF},String}(\"figures/groups-3.pdf\").\n",
      "\n",
      "Fatal error:\n"
     ]
    },
    {
     "data": {
      "text/plain": [
       "Process(`\u001b[4mopen\u001b[24m \u001b[4mfigures/groups-3.pdf\u001b[24m`, ProcessExited(0))"
      ]
     },
     "execution_count": 32,
     "metadata": {},
     "output_type": "execute_result"
    }
   ],
   "source": [
    "Mads.display(\"figures/groups-2.pdf\")\n",
    "Mads.display(\"figures/groups-3.pdf\")"
   ]
  },
  {
   "cell_type": "code",
   "execution_count": 35,
   "metadata": {},
   "outputs": [
    {
     "name": "stderr",
     "output_type": "stream",
     "text": [
      "Error encountered while load FileIO.File{FileIO.DataFormat{:PDF},String}(\"figures/5day_GFDL-ESM2G_chrono_groups-3.pdf\").\n",
      "\n",
      "Fatal error:\n",
      "Error encountered while load FileIO.File{FileIO.DataFormat{:PDF},String}(\"figures/5day_IPSL-CM5A-LR_chrono_groups-3.pdf\").\n",
      "\n",
      "Fatal error:\n"
     ]
    },
    {
     "data": {
      "text/plain": [
       "Process(`\u001b[4mopen\u001b[24m \u001b[4mfigures/5day_IPSL-CM5A-LR_chrono_groups-3.pdf\u001b[24m`, ProcessExited(0))"
      ]
     },
     "execution_count": 35,
     "metadata": {},
     "output_type": "execute_result"
    }
   ],
   "source": [
    "Mads.display(\"figures/5day_GFDL-ESM2G_chrono_groups-3.pdf\")\n",
    "Mads.display(\"figures/5day_IPSL-CM5A-LR_chrono_groups-3.pdf\")"
   ]
  },
  {
   "cell_type": "code",
   "execution_count": null,
   "metadata": {},
   "outputs": [],
   "source": []
  }
 ],
 "metadata": {
  "kernelspec": {
   "display_name": "Julia 1.5.4",
   "language": "julia",
   "name": "julia-1.5"
  },
  "language_info": {
   "file_extension": ".jl",
   "mimetype": "application/julia",
   "name": "julia",
   "version": "1.5.4"
  }
 },
 "nbformat": 4,
 "nbformat_minor": 4
}
